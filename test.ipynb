{
 "cells": [
  {
   "cell_type": "markdown",
   "metadata": {},
   "source": [
    "### import module"
   ]
  },
  {
   "cell_type": "code",
   "execution_count": 1,
   "metadata": {},
   "outputs": [],
   "source": [
    "import pandas as pd"
   ]
  },
  {
   "cell_type": "markdown",
   "metadata": {},
   "source": [
    "### read file excell format"
   ]
  },
  {
   "cell_type": "code",
   "execution_count": 2,
   "metadata": {},
   "outputs": [
    {
     "data": {
      "text/html": [
       "<div>\n",
       "<style scoped>\n",
       "    .dataframe tbody tr th:only-of-type {\n",
       "        vertical-align: middle;\n",
       "    }\n",
       "\n",
       "    .dataframe tbody tr th {\n",
       "        vertical-align: top;\n",
       "    }\n",
       "\n",
       "    .dataframe thead th {\n",
       "        text-align: right;\n",
       "    }\n",
       "</style>\n",
       "<table border=\"1\" class=\"dataframe\">\n",
       "  <thead>\n",
       "    <tr style=\"text-align: right;\">\n",
       "      <th></th>\n",
       "      <th>Unnamed: 0</th>\n",
       "      <th>VendorID</th>\n",
       "      <th>tpep_pickup_datetime</th>\n",
       "      <th>tpep_dropoff_datetime</th>\n",
       "      <th>passenger_count</th>\n",
       "      <th>trip_distance</th>\n",
       "    </tr>\n",
       "  </thead>\n",
       "  <tbody>\n",
       "    <tr>\n",
       "      <th>0</th>\n",
       "      <td>0</td>\n",
       "      <td>2</td>\n",
       "      <td>03/25/2017 8:55:43 AM</td>\n",
       "      <td>03/25/2017 9:09:47 AM</td>\n",
       "      <td>6</td>\n",
       "      <td>3.34</td>\n",
       "    </tr>\n",
       "    <tr>\n",
       "      <th>1</th>\n",
       "      <td>1</td>\n",
       "      <td>1</td>\n",
       "      <td>04/11/2017 2:53:28 PM</td>\n",
       "      <td>04/11/2017 3:19:58 PM</td>\n",
       "      <td>1</td>\n",
       "      <td>1.80</td>\n",
       "    </tr>\n",
       "    <tr>\n",
       "      <th>2</th>\n",
       "      <td>2</td>\n",
       "      <td>1</td>\n",
       "      <td>12/15/2017 7:26:56 AM</td>\n",
       "      <td>12/15/2017 7:34:08 AM</td>\n",
       "      <td>1</td>\n",
       "      <td>1.00</td>\n",
       "    </tr>\n",
       "    <tr>\n",
       "      <th>3</th>\n",
       "      <td>3</td>\n",
       "      <td>2</td>\n",
       "      <td>05/07/2017 1:17:59 PM</td>\n",
       "      <td>05/07/2017 1:48:14 PM</td>\n",
       "      <td>1</td>\n",
       "      <td>3.70</td>\n",
       "    </tr>\n",
       "    <tr>\n",
       "      <th>4</th>\n",
       "      <td>4</td>\n",
       "      <td>2</td>\n",
       "      <td>04/15/2017 11:32:20 PM</td>\n",
       "      <td>04/15/2017 11:49:03 PM</td>\n",
       "      <td>1</td>\n",
       "      <td>4.37</td>\n",
       "    </tr>\n",
       "    <tr>\n",
       "      <th>...</th>\n",
       "      <td>...</td>\n",
       "      <td>...</td>\n",
       "      <td>...</td>\n",
       "      <td>...</td>\n",
       "      <td>...</td>\n",
       "      <td>...</td>\n",
       "    </tr>\n",
       "    <tr>\n",
       "      <th>22694</th>\n",
       "      <td>22694</td>\n",
       "      <td>2</td>\n",
       "      <td>02/24/2017 5:37:23 PM</td>\n",
       "      <td>02/24/2017 5:40:39 PM</td>\n",
       "      <td>3</td>\n",
       "      <td>0.61</td>\n",
       "    </tr>\n",
       "    <tr>\n",
       "      <th>22695</th>\n",
       "      <td>22695</td>\n",
       "      <td>2</td>\n",
       "      <td>08/06/2017 4:43:59 PM</td>\n",
       "      <td>08/06/2017 5:24:47 PM</td>\n",
       "      <td>1</td>\n",
       "      <td>16.71</td>\n",
       "    </tr>\n",
       "    <tr>\n",
       "      <th>22696</th>\n",
       "      <td>22696</td>\n",
       "      <td>2</td>\n",
       "      <td>09/04/2017 2:54:14 PM</td>\n",
       "      <td>09/04/2017 2:58:22 PM</td>\n",
       "      <td>1</td>\n",
       "      <td>0.42</td>\n",
       "    </tr>\n",
       "    <tr>\n",
       "      <th>22697</th>\n",
       "      <td>22697</td>\n",
       "      <td>2</td>\n",
       "      <td>07/15/2017 12:56:30 PM</td>\n",
       "      <td>07/15/2017 1:08:26 PM</td>\n",
       "      <td>1</td>\n",
       "      <td>2.36</td>\n",
       "    </tr>\n",
       "    <tr>\n",
       "      <th>22698</th>\n",
       "      <td>22698</td>\n",
       "      <td>1</td>\n",
       "      <td>03/02/2017 1:02:49 PM</td>\n",
       "      <td>03/02/2017 1:16:09 PM</td>\n",
       "      <td>1</td>\n",
       "      <td>2.10</td>\n",
       "    </tr>\n",
       "  </tbody>\n",
       "</table>\n",
       "<p>22699 rows × 6 columns</p>\n",
       "</div>"
      ],
      "text/plain": [
       "       Unnamed: 0  VendorID    tpep_pickup_datetime   tpep_dropoff_datetime  \\\n",
       "0               0         2   03/25/2017 8:55:43 AM   03/25/2017 9:09:47 AM   \n",
       "1               1         1   04/11/2017 2:53:28 PM   04/11/2017 3:19:58 PM   \n",
       "2               2         1   12/15/2017 7:26:56 AM   12/15/2017 7:34:08 AM   \n",
       "3               3         2   05/07/2017 1:17:59 PM   05/07/2017 1:48:14 PM   \n",
       "4               4         2  04/15/2017 11:32:20 PM  04/15/2017 11:49:03 PM   \n",
       "...           ...       ...                     ...                     ...   \n",
       "22694       22694         2   02/24/2017 5:37:23 PM   02/24/2017 5:40:39 PM   \n",
       "22695       22695         2   08/06/2017 4:43:59 PM   08/06/2017 5:24:47 PM   \n",
       "22696       22696         2   09/04/2017 2:54:14 PM   09/04/2017 2:58:22 PM   \n",
       "22697       22697         2  07/15/2017 12:56:30 PM   07/15/2017 1:08:26 PM   \n",
       "22698       22698         1   03/02/2017 1:02:49 PM   03/02/2017 1:16:09 PM   \n",
       "\n",
       "       passenger_count  trip_distance  \n",
       "0                    6           3.34  \n",
       "1                    1           1.80  \n",
       "2                    1           1.00  \n",
       "3                    1           3.70  \n",
       "4                    1           4.37  \n",
       "...                ...            ...  \n",
       "22694                3           0.61  \n",
       "22695                1          16.71  \n",
       "22696                1           0.42  \n",
       "22697                1           2.36  \n",
       "22698                1           2.10  \n",
       "\n",
       "[22699 rows x 6 columns]"
      ]
     },
     "execution_count": 2,
     "metadata": {},
     "output_type": "execute_result"
    }
   ],
   "source": [
    "df = pd.read_excel(\"Taxi_Time.xlsx\")\n",
    "df"
   ]
  },
  {
   "cell_type": "markdown",
   "metadata": {},
   "source": [
    " pengecekan informasi mengenai data set"
   ]
  },
  {
   "cell_type": "code",
   "execution_count": 4,
   "metadata": {},
   "outputs": [
    {
     "name": "stdout",
     "output_type": "stream",
     "text": [
      "<class 'pandas.core.frame.DataFrame'>\n",
      "RangeIndex: 22699 entries, 0 to 22698\n",
      "Data columns (total 6 columns):\n",
      " #   Column                 Non-Null Count  Dtype  \n",
      "---  ------                 --------------  -----  \n",
      " 0   Unnamed: 0             22699 non-null  int64  \n",
      " 1   VendorID               22699 non-null  int64  \n",
      " 2   tpep_pickup_datetime   22699 non-null  object \n",
      " 3   tpep_dropoff_datetime  22699 non-null  object \n",
      " 4   passenger_count        22699 non-null  int64  \n",
      " 5   trip_distance          22699 non-null  float64\n",
      "dtypes: float64(1), int64(3), object(2)\n",
      "memory usage: 1.0+ MB\n"
     ]
    }
   ],
   "source": [
    "df.info()"
   ]
  },
  {
   "cell_type": "markdown",
   "metadata": {},
   "source": [
    "#### ubah format kolom tpep_pickup_datetime dan  tpep_dropoff_datetime menjadi datetime\n"
   ]
  },
  {
   "cell_type": "code",
   "execution_count": 8,
   "metadata": {},
   "outputs": [
    {
     "name": "stdout",
     "output_type": "stream",
     "text": [
      "<class 'pandas.core.frame.DataFrame'>\n",
      "RangeIndex: 22699 entries, 0 to 22698\n",
      "Data columns (total 6 columns):\n",
      " #   Column                 Non-Null Count  Dtype         \n",
      "---  ------                 --------------  -----         \n",
      " 0   Unnamed: 0             22699 non-null  int64         \n",
      " 1   VendorID               22699 non-null  int64         \n",
      " 2   tpep_pickup_datetime   22699 non-null  datetime64[ns]\n",
      " 3   tpep_dropoff_datetime  22699 non-null  datetime64[ns]\n",
      " 4   passenger_count        22699 non-null  int64         \n",
      " 5   trip_distance          22699 non-null  float64       \n",
      "dtypes: datetime64[ns](2), float64(1), int64(3)\n",
      "memory usage: 1.0 MB\n"
     ]
    }
   ],
   "source": [
    "df[\"tpep_pickup_datetime\"] = pd.to_datetime(df[\"tpep_pickup_datetime\"])\n",
    "df[\"tpep_dropoff_datetime\"] = pd.to_datetime(df[\"tpep_dropoff_datetime\"])\n",
    "\n",
    "df.info()\n",
    "# data sudah berubah nmenjadi format datetime"
   ]
  },
  {
   "cell_type": "code",
   "execution_count": 10,
   "metadata": {},
   "outputs": [],
   "source": [
    "## menghapus kolomn unnamed:0 "
   ]
  },
  {
   "cell_type": "code",
   "execution_count": 11,
   "metadata": {},
   "outputs": [],
   "source": [
    "df.drop(columns=\"Unnamed: 0\", inplace=True)"
   ]
  },
  {
   "cell_type": "markdown",
   "metadata": {},
   "source": [
    "### ekstrak data dengan atribut bawaan pandas"
   ]
  },
  {
   "cell_type": "code",
   "execution_count": 20,
   "metadata": {},
   "outputs": [
    {
     "ename": "AttributeError",
     "evalue": "'DatetimeProperties' object has no attribute 'total_second'",
     "output_type": "error",
     "traceback": [
      "\u001b[0;31m---------------------------------------------------------------------------\u001b[0m",
      "\u001b[0;31mAttributeError\u001b[0m                            Traceback (most recent call last)",
      "Cell \u001b[0;32mIn[20], line 8\u001b[0m\n\u001b[1;32m      6\u001b[0m df[\u001b[38;5;124m\"\u001b[39m\u001b[38;5;124myear\u001b[39m\u001b[38;5;124m\"\u001b[39m] \u001b[38;5;241m=\u001b[39m df[\u001b[38;5;124m\"\u001b[39m\u001b[38;5;124mtpep_pickup_datetime\u001b[39m\u001b[38;5;124m\"\u001b[39m]\u001b[38;5;241m.\u001b[39mdt\u001b[38;5;241m.\u001b[39myear\n\u001b[1;32m      7\u001b[0m df[\u001b[38;5;124m\"\u001b[39m\u001b[38;5;124mnamaBulan\u001b[39m\u001b[38;5;124m\"\u001b[39m] \u001b[38;5;241m=\u001b[39m df[\u001b[38;5;124m\"\u001b[39m\u001b[38;5;124mtpep_pickup_datetime\u001b[39m\u001b[38;5;124m\"\u001b[39m]\u001b[38;5;241m.\u001b[39mdt\u001b[38;5;241m.\u001b[39mmonth_name()\n\u001b[0;32m----> 8\u001b[0m df[\u001b[38;5;124m\"\u001b[39m\u001b[38;5;124mtotalSecond\u001b[39m\u001b[38;5;124m\"\u001b[39m] \u001b[38;5;241m=\u001b[39m \u001b[43mdf\u001b[49m\u001b[43m[\u001b[49m\u001b[38;5;124;43m\"\u001b[39;49m\u001b[38;5;124;43mtpep_pickup_datetime\u001b[39;49m\u001b[38;5;124;43m\"\u001b[39;49m\u001b[43m]\u001b[49m\u001b[38;5;241;43m.\u001b[39;49m\u001b[43mdt\u001b[49m\u001b[38;5;241;43m.\u001b[39;49m\u001b[43mtotal_second\u001b[49m()\n\u001b[1;32m      9\u001b[0m df\n",
      "\u001b[0;31mAttributeError\u001b[0m: 'DatetimeProperties' object has no attribute 'total_second'"
     ]
    }
   ],
   "source": [
    "df[\"second\"] = df[\"tpep_pickup_datetime\"].dt.second\n",
    "df[\"minute\"] = df[\"tpep_pickup_datetime\"].dt.minute\n",
    "df[\"hour\"] = df[\"tpep_pickup_datetime\"].dt.hour\n",
    "df[\"day\"] = df[\"tpep_pickup_datetime\"].dt.day\n",
    "df[\"month\"] = df[\"tpep_pickup_datetime\"].dt.month\n",
    "df[\"year\"] = df[\"tpep_pickup_datetime\"].dt.year\n",
    "df[\"namaBulan\"] = df[\"tpep_pickup_datetime\"].dt.month_name()\n",
    "df[\"totalSecond\"] = df[\"tpep_pickup_datetime\"].dt.total_second()\n",
    "df"
   ]
  },
  {
   "cell_type": "code",
   "execution_count": null,
   "metadata": {},
   "outputs": [],
   "source": []
  }
 ],
 "metadata": {
  "kernelspec": {
   "display_name": "Python (myenv)",
   "language": "python",
   "name": "myenv"
  },
  "language_info": {
   "codemirror_mode": {
    "name": "ipython",
    "version": 3
   },
   "file_extension": ".py",
   "mimetype": "text/x-python",
   "name": "python",
   "nbconvert_exporter": "python",
   "pygments_lexer": "ipython3",
   "version": "3.10.4"
  }
 },
 "nbformat": 4,
 "nbformat_minor": 2
}
